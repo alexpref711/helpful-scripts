{
 "cells": [
  {
   "cell_type": "code",
   "execution_count": 12,
   "id": "f86b431b",
   "metadata": {},
   "outputs": [],
   "source": [
    "# It should be relatively easy to set the entire thing up to analyze 10 runs\n",
    "# There would be one df of the alignments then all the others... ideas ideas"
   ]
  },
  {
   "cell_type": "code",
   "execution_count": 13,
   "id": "6334bc08",
   "metadata": {},
   "outputs": [
    {
     "data": {
      "text/html": [
       "<style>.container { width:90% !important; }</style>"
      ],
      "text/plain": [
       "<IPython.core.display.HTML object>"
      ]
     },
     "metadata": {},
     "output_type": "display_data"
    }
   ],
   "source": [
    "from IPython.core.display import display, HTML\n",
    "display(HTML(\"<style>.container { width:90% !important; }</style>\"))"
   ]
  },
  {
   "cell_type": "code",
   "execution_count": 14,
   "id": "51a015a3",
   "metadata": {},
   "outputs": [],
   "source": [
    "import pandas as pd\n",
    "import numpy as np"
   ]
  },
  {
   "cell_type": "code",
   "execution_count": 17,
   "id": "528cc6b7",
   "metadata": {},
   "outputs": [
    {
     "data": {
      "text/html": [
       "<div>\n",
       "<style scoped>\n",
       "    .dataframe tbody tr th:only-of-type {\n",
       "        vertical-align: middle;\n",
       "    }\n",
       "\n",
       "    .dataframe tbody tr th {\n",
       "        vertical-align: top;\n",
       "    }\n",
       "\n",
       "    .dataframe thead th {\n",
       "        text-align: right;\n",
       "    }\n",
       "</style>\n",
       "<table border=\"1\" class=\"dataframe\">\n",
       "  <thead>\n",
       "    <tr style=\"text-align: right;\">\n",
       "      <th></th>\n",
       "      <th>seq</th>\n",
       "      <th>rt</th>\n",
       "    </tr>\n",
       "  </thead>\n",
       "  <tbody>\n",
       "    <tr>\n",
       "      <th>0</th>\n",
       "      <td>AAA</td>\n",
       "      <td>1</td>\n",
       "    </tr>\n",
       "    <tr>\n",
       "      <th>1</th>\n",
       "      <td>LLL</td>\n",
       "      <td>2</td>\n",
       "    </tr>\n",
       "    <tr>\n",
       "      <th>2</th>\n",
       "      <td>PPP</td>\n",
       "      <td>3</td>\n",
       "    </tr>\n",
       "    <tr>\n",
       "      <th>3</th>\n",
       "      <td>FFF</td>\n",
       "      <td>4</td>\n",
       "    </tr>\n",
       "  </tbody>\n",
       "</table>\n",
       "</div>"
      ],
      "text/plain": [
       "   seq  rt\n",
       "0  AAA   1\n",
       "1  LLL   2\n",
       "2  PPP   3\n",
       "3  FFF   4"
      ]
     },
     "execution_count": 17,
     "metadata": {},
     "output_type": "execute_result"
    }
   ],
   "source": [
    "# Note how FFF is in no mods but not in mods 1 chidless parent FFF\n",
    "test_no_mod = {'seq':['AAA', 'LLL', 'PPP', 'FFF'], 'rt':[1,2,3,4]}\n",
    "no_mods = pd.DataFrame(test_no_mod)\n",
    "no_mods"
   ]
  },
  {
   "cell_type": "code",
   "execution_count": 21,
   "id": "60b905dc",
   "metadata": {
    "scrolled": true
   },
   "outputs": [
    {
     "data": {
      "text/html": [
       "<div>\n",
       "<style scoped>\n",
       "    .dataframe tbody tr th:only-of-type {\n",
       "        vertical-align: middle;\n",
       "    }\n",
       "\n",
       "    .dataframe tbody tr th {\n",
       "        vertical-align: top;\n",
       "    }\n",
       "\n",
       "    .dataframe thead th {\n",
       "        text-align: right;\n",
       "    }\n",
       "</style>\n",
       "<table border=\"1\" class=\"dataframe\">\n",
       "  <thead>\n",
       "    <tr style=\"text-align: right;\">\n",
       "      <th></th>\n",
       "      <th>seq</th>\n",
       "      <th>rt</th>\n",
       "    </tr>\n",
       "  </thead>\n",
       "  <tbody>\n",
       "    <tr>\n",
       "      <th>0</th>\n",
       "      <td>AAA</td>\n",
       "      <td>1</td>\n",
       "    </tr>\n",
       "    <tr>\n",
       "      <th>1</th>\n",
       "      <td>AAA</td>\n",
       "      <td>-3</td>\n",
       "    </tr>\n",
       "    <tr>\n",
       "      <th>2</th>\n",
       "      <td>AAA</td>\n",
       "      <td>4</td>\n",
       "    </tr>\n",
       "    <tr>\n",
       "      <th>3</th>\n",
       "      <td>AAA</td>\n",
       "      <td>5</td>\n",
       "    </tr>\n",
       "    <tr>\n",
       "      <th>4</th>\n",
       "      <td>PPP</td>\n",
       "      <td>2</td>\n",
       "    </tr>\n",
       "    <tr>\n",
       "      <th>5</th>\n",
       "      <td>PPP</td>\n",
       "      <td>-10</td>\n",
       "    </tr>\n",
       "    <tr>\n",
       "      <th>6</th>\n",
       "      <td>LLL</td>\n",
       "      <td>2</td>\n",
       "    </tr>\n",
       "    <tr>\n",
       "      <th>7</th>\n",
       "      <td>WWW</td>\n",
       "      <td>100</td>\n",
       "    </tr>\n",
       "    <tr>\n",
       "      <th>8</th>\n",
       "      <td>GGG</td>\n",
       "      <td>20</td>\n",
       "    </tr>\n",
       "  </tbody>\n",
       "</table>\n",
       "</div>"
      ],
      "text/plain": [
       "   seq   rt\n",
       "0  AAA    1\n",
       "1  AAA   -3\n",
       "2  AAA    4\n",
       "3  AAA    5\n",
       "4  PPP    2\n",
       "5  PPP  -10\n",
       "6  LLL    2\n",
       "7  WWW  100\n",
       "8  GGG   20"
      ]
     },
     "execution_count": 21,
     "metadata": {},
     "output_type": "execute_result"
    }
   ],
   "source": [
    "# Quad repeat of alanine, double proline, matahced leucines, 2 orphans\n",
    "test_mods = {'seq':['AAA', 'AAA', 'AAA', 'AAA', 'PPP', 'PPP', 'LLL', 'WWW', 'GGG'],\n",
    "            'rt':[1,-3,4,5, 2, -10, 2, 100, 20]}\n",
    "modded = pd.DataFrame(test_mods)\n",
    "modded"
   ]
  },
  {
   "cell_type": "markdown",
   "id": "7a1c9654",
   "metadata": {},
   "source": [
    "## Inner Join"
   ]
  },
  {
   "cell_type": "code",
   "execution_count": null,
   "id": "3182478e",
   "metadata": {},
   "outputs": [],
   "source": [
    "# Step 1 scrub every sequence with an unwanted modification or more than one proline mod\n",
    "# Step 2 split into mod and non-modified\n",
    "# Step 3 Perform the inner join on the two data frames"
   ]
  },
  {
   "cell_type": "code",
   "execution_count": 27,
   "id": "020eb895",
   "metadata": {
    "scrolled": true
   },
   "outputs": [
    {
     "data": {
      "text/html": [
       "<div>\n",
       "<style scoped>\n",
       "    .dataframe tbody tr th:only-of-type {\n",
       "        vertical-align: middle;\n",
       "    }\n",
       "\n",
       "    .dataframe tbody tr th {\n",
       "        vertical-align: top;\n",
       "    }\n",
       "\n",
       "    .dataframe thead th {\n",
       "        text-align: right;\n",
       "    }\n",
       "</style>\n",
       "<table border=\"1\" class=\"dataframe\">\n",
       "  <thead>\n",
       "    <tr style=\"text-align: right;\">\n",
       "      <th></th>\n",
       "      <th>seq</th>\n",
       "      <th>rt_x</th>\n",
       "      <th>rt_y</th>\n",
       "    </tr>\n",
       "  </thead>\n",
       "  <tbody>\n",
       "    <tr>\n",
       "      <th>0</th>\n",
       "      <td>AAA</td>\n",
       "      <td>1</td>\n",
       "      <td>1</td>\n",
       "    </tr>\n",
       "    <tr>\n",
       "      <th>1</th>\n",
       "      <td>AAA</td>\n",
       "      <td>1</td>\n",
       "      <td>-3</td>\n",
       "    </tr>\n",
       "    <tr>\n",
       "      <th>2</th>\n",
       "      <td>AAA</td>\n",
       "      <td>1</td>\n",
       "      <td>4</td>\n",
       "    </tr>\n",
       "    <tr>\n",
       "      <th>3</th>\n",
       "      <td>AAA</td>\n",
       "      <td>1</td>\n",
       "      <td>5</td>\n",
       "    </tr>\n",
       "    <tr>\n",
       "      <th>4</th>\n",
       "      <td>LLL</td>\n",
       "      <td>2</td>\n",
       "      <td>2</td>\n",
       "    </tr>\n",
       "    <tr>\n",
       "      <th>5</th>\n",
       "      <td>PPP</td>\n",
       "      <td>3</td>\n",
       "      <td>2</td>\n",
       "    </tr>\n",
       "    <tr>\n",
       "      <th>6</th>\n",
       "      <td>PPP</td>\n",
       "      <td>3</td>\n",
       "      <td>-10</td>\n",
       "    </tr>\n",
       "  </tbody>\n",
       "</table>\n",
       "</div>"
      ],
      "text/plain": [
       "   seq  rt_x  rt_y\n",
       "0  AAA     1     1\n",
       "1  AAA     1    -3\n",
       "2  AAA     1     4\n",
       "3  AAA     1     5\n",
       "4  LLL     2     2\n",
       "5  PPP     3     2\n",
       "6  PPP     3   -10"
      ]
     },
     "execution_count": 27,
     "metadata": {},
     "output_type": "execute_result"
    }
   ],
   "source": [
    "# Dropped the childless parents, dropped the orphans, mateched families properly !\n",
    "# the default inner join is what you whant to use, \n",
    "\n",
    "'''\n",
    "If seq in both do a merge ! The size will alwas be less than the parent sequences and more than the children\n",
    "'''\n",
    "\n",
    "inner_join_df = pd.merge(no_mods,modded,on='seq', how='inner')\n",
    "inner_join_df"
   ]
  },
  {
   "cell_type": "code",
   "execution_count": 26,
   "id": "2edca7e9",
   "metadata": {},
   "outputs": [
    {
     "name": "stdout",
     "output_type": "stream",
     "text": [
      "(4, 2)\n",
      "(9, 2)\n",
      "(7, 3)\n"
     ]
    }
   ],
   "source": [
    "print(no_mods.shape)\n",
    "print(modded.shape)\n",
    "print(inner_join_df.shape)"
   ]
  },
  {
   "cell_type": "markdown",
   "id": "6b7cd53d",
   "metadata": {},
   "source": [
    "## Fun with sets !"
   ]
  },
  {
   "cell_type": "code",
   "execution_count": 6,
   "id": "3669fb75",
   "metadata": {},
   "outputs": [
    {
     "name": "stdout",
     "output_type": "stream",
     "text": [
      "{2, 3}\n",
      "{3, 4}\n",
      "\n",
      "{1, 2}\n",
      "{4, 5, 7}\n",
      "{1, 2, 4, 5, 7}\n"
     ]
    }
   ],
   "source": [
    "# With \n",
    "s1 = set([1, 2, 3])\n",
    "s2 = {2, 3, 4, 4, 4, 4,}\n",
    "s3 = {3, 4, 5, 7}\n",
    "\n",
    "# What from target appears in the others\n",
    "print(s1.intersection(s2))\n",
    "print(s3.intersection(s2, s3))\n",
    "print(\"\")\n",
    "\n",
    "# what is in target set and not the others\n",
    "print(s1.difference(s3))\n",
    "print(s3.difference(s1))\n",
    "\n",
    "# Symetric difference what do we all have in different\n",
    "print(s1.symmetric_difference(s3))"
   ]
  }
 ],
 "metadata": {
  "kernelspec": {
   "display_name": "Python 3 (ipykernel)",
   "language": "python",
   "name": "python3"
  },
  "language_info": {
   "codemirror_mode": {
    "name": "ipython",
    "version": 3
   },
   "file_extension": ".py",
   "mimetype": "text/x-python",
   "name": "python",
   "nbconvert_exporter": "python",
   "pygments_lexer": "ipython3",
   "version": "3.9.7"
  },
  "varInspector": {
   "cols": {
    "lenName": 16,
    "lenType": 16,
    "lenVar": 40
   },
   "kernels_config": {
    "python": {
     "delete_cmd_postfix": "",
     "delete_cmd_prefix": "del ",
     "library": "var_list.py",
     "varRefreshCmd": "print(var_dic_list())"
    },
    "r": {
     "delete_cmd_postfix": ") ",
     "delete_cmd_prefix": "rm(",
     "library": "var_list.r",
     "varRefreshCmd": "cat(var_dic_list()) "
    }
   },
   "types_to_exclude": [
    "module",
    "function",
    "builtin_function_or_method",
    "instance",
    "_Feature"
   ],
   "window_display": false
  }
 },
 "nbformat": 4,
 "nbformat_minor": 5
}
